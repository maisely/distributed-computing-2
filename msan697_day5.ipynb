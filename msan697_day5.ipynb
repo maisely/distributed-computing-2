{
 "cells": [
  {
   "cell_type": "code",
   "execution_count": 1,
   "metadata": {
    "collapsed": true
   },
   "outputs": [],
   "source": [
    "from pyspark import SparkContext\n",
    "sc = SparkContext.getOrCreate()"
   ]
  },
  {
   "cell_type": "markdown",
   "metadata": {
    "collapsed": true
   },
   "source": [
    "## NoSQL"
   ]
  },
  {
   "cell_type": "markdown",
   "metadata": {},
   "source": [
    "### Relational Database\n",
    "\n",
    "#### Relational Model\n",
    "+ Database is a collection of relations\n",
    "+ Each relation has attributes - each attribute is a column\n",
    "+ Each relation has a collection of tuples\n",
    "\n",
    "#### SQL (Structured Query Language)\n",
    "- Manage data in a relational database\n",
    "- Select rows from a relation satisfying a given condition\n",
    "\n",
    "#### Advantages\n",
    "+ Concurrency Control - ACID (Atomic, Consistent, Isolated and Durable) Transaction Management\n",
    "    - **Atomicity**: An operation either succeeds or fails\tentirely. Many rows spanning tables are updated as a single operation\n",
    "    - **Consistency**: Any given transaction must change the affected data \n",
    "    - **Isolated**: Define how/when the changes made by one operation become visible to other. Concurrent ioerations are isolated from each other so that they can't see a partial update.\n",
    "    - **Durable**: Once a transaction has been commited, it will remain permanently. \n",
    "+ Standard Model\n",
    "    - Different query languages are similar\n",
    "    - Transaction operations work in the similar way as well"
   ]
  },
  {
   "cell_type": "markdown",
   "metadata": {},
   "source": [
    "### Big Data & Relational Databases\n",
    "\n",
    "- Data & Traffic increase, schema changes\n",
    "- Solution:\n",
    "    + Scale out or scale up? Cost and efficiency\n",
    "    + Started to store data in the cluster, i.e. distributing data into smaller databases \n",
    "    + **Sharding**: A type of database partitioning that separates very large databases the into smaller, faster, more easily managed parts called data shards. \n",
    "    <img src=\"sharding.png\" width=\"300pt\">\n",
    "    \n",
    "    \n",
    "==> **Reliability** issue: What if one of the database die? e.g. what if A dies?\n",
    "- However, most relational databases are not designed to run on cluster\n",
    "- What if a table schema changes all the time?"
   ]
  },
  {
   "cell_type": "markdown",
   "metadata": {},
   "source": [
    "### JSON (JavaScript Object Notation)\n",
    "- Open-standard file format that uses human-readable text to transmit data objects consisting of key-value pairs and array data types (or any other serializable value)\n",
    "- Commonly used for brownser-server communication for REST API"
   ]
  },
  {
   "cell_type": "markdown",
   "metadata": {},
   "source": [
    "### Example 1 - parse and load\t“user_1.json” into\t“users”\ttable."
   ]
  },
  {
   "cell_type": "code",
   "execution_count": 4,
   "metadata": {
    "collapsed": true
   },
   "outputs": [],
   "source": [
    "import psycopg2\n",
    "import json\n",
    "\n",
    "def connectdb(db_name, user_name):\n",
    "    try: db_conn = psycopg2.connect(dbname=db_name, user=user_name)\n",
    "    except: print(\"Not able to connect to\" + db_name)\n",
    "    return db_conn\n",
    "\n",
    "def db_cursor(db_conn): \n",
    "    return db_conn.cursor()\n",
    "\n",
    "def execute(db_cursor, query): \n",
    "    return db_cursor.execute(query)\n",
    "\n",
    "def create_table(db_cursor, table_name, column_type_list):\n",
    "    create_tbl_qry = \"CREATE TABLE \"+table_name+\"(\"+column_type_list+\")\"\n",
    "    execute(db_cursor, create_tbl_qry)\n",
    "\n",
    "def insert_into_table(db_cursor, table_name, column_names, values):\n",
    "    insert_qry = \"INSERT INTO \"+table_name+\\\n",
    "                \"(\"+column_names+\") VALUES (\"+values+\");\"\n",
    "    execute(db_cursor, insert_qry)\n",
    "\n",
    "def get_value(data, key): \n",
    "    if (data.get(key)): return data[key]"
   ]
  },
  {
   "cell_type": "code",
   "execution_count": null,
   "metadata": {
    "collapsed": true
   },
   "outputs": [],
   "source": [
    "psycopg2.connect(\"dbname='msan691' user='thykhuely' host='localhost' password=''\")"
   ]
  },
  {
   "cell_type": "markdown",
   "metadata": {},
   "source": [
    "### Why NoSQL\n",
    "\n",
    "- Find another option for the system we're using\n",
    "\n",
    "- **Impedance Mismatch**\n",
    "    + Relation model is different from In-memory Data Structure (object)\n",
    "    + Difficulties when a RDBMS is being served by an application program written in an object-oriented programming language, particularly because objects/class definitions must be mapped to database tables defined by a relational schema.\n",
    "    + Better mapping with in-memory data structures for the application\n",
    "\n",
    "\n",
    "- **Large colume of data**\n",
    "    + Run large\tdata on\tclusters of\tmany smaller and cheaper machines.\n",
    "    + Cheaper and reliable"
   ]
  },
  {
   "cell_type": "markdown",
   "metadata": {},
   "source": [
    "### NoSQL Features\n",
    "- Take schema-less data\n",
    "- Non-relational data\n",
    "- Open-source, \n",
    "- Trade off traditional consistency for other properties\n",
    "- Run on Cluster"
   ]
  },
  {
   "cell_type": "markdown",
   "metadata": {},
   "source": [
    "- Postgres supports JSON data type. However, \n",
    "    + Even though it can take schema-less or non-structured data, it is **not designed for data distribution**\n",
    "    + It does **not offer** any native mechanisms for data availability or **scaling** the database beyond a single serve\n",
    "    + Lacks mechanisms for automatic **failover and recovery** between database replicas\n",
    "    + No native mechanisms to **partition (shard)** the database across a cluster of nodes.\n",
    "    + Not as natural to work with JSON data in Postgres - non-standard extensions to SQL to query and manipulate JSON are not supported by most tools\n"
   ]
  },
  {
   "cell_type": "markdown",
   "metadata": {},
   "source": [
    "### NoSQL Database Types\n",
    "\n",
    "| Aggregate-oriented | Relationship-oriented |\n",
    "| -------------------|-----------------------|\n",
    "| Key-value db | Graph db |\n",
    "| Document db | |\n",
    "| Columnar db | |"
   ]
  },
  {
   "cell_type": "markdown",
   "metadata": {},
   "source": [
    "<img src=\"nosql-types.jpg\", width=\"60%\", height=\"50%\">"
   ]
  },
  {
   "cell_type": "markdown",
   "metadata": {},
   "source": [
    "### 1. Aggregate: Collection of related objects, treated as a unit\n",
    "- For analyzing data, you might want to place some data that are strongly related together as a unit\n",
    "    - E.g. students id, name, address, phone number\n",
    "    - On a cluster, an aggregate is stored together on a node\n",
    "    - A single aggregate is a unit of atomic updates\n",
    "    - They (All the attributes/columns) are always together in one machine\n",
    "    - In Postgres, everything has to be in the same machine, if there isn't enough space, they chop the data down by **columns**, each has a key field that can be later join together\n",
    "    - Different from relational database, data can be splitted into different chunks, splitted by the **rows**/**aggregate** into different machines. \n",
    "- Use aggregates indexed by **key** for data lookup\n",
    "- Don't have ACID tnx that span multiple aggregates\n",
    "\n",
    "\n",
    "- **Advantages**\n",
    "    + Provides clearer semantics to consider by focusing on the aggregate unit used by applications\n",
    "    + Better design choice for running on a cluster\n",
    "    \n",
    "    \n",
    "- **Disadvantages**\n",
    "    + Not to easy to draw boundaries\n",
    "        + e.g. How can we draw -- \n",
    "        ```\n",
    "        {name: 'Ann',\n",
    "        address: {street:'123 Howard', city: 'San Francisco', state: 'CA'}}\n",
    "        ```\n",
    "    + When the goal of data mgmt/analysis is unclear => not the best choice\n",
    "    + Does not support ACID tnx\n",
    "    \n",
    "    "
   ]
  },
  {
   "cell_type": "markdown",
   "metadata": {},
   "source": [
    "### Example 2 - Draw boundaries\tof\tan\taggregate.\n",
    "\n",
    "<img src=\"day5_ex2.png\", width=\"80%\">\n",
    "\n",
    "1. Approach (1): \n",
    "\n",
    "    ```python\n",
    "    # aggregate 1\n",
    "    { customer_id, customer_name,\n",
    "          billing_address:{ street, city, state, post_code } \n",
    "          }\n",
    "    \n",
    "    # aggregate2\n",
    "    { order_id, customer_id,\n",
    "        order_payment: { card_number, txn_id, billing_address },\n",
    "        order_item: { name, price }\n",
    "        }\n",
    "    ``` \n",
    "    \n",
    "\n",
    "2. Approach (2): \n",
    "\n",
    "```python\n",
    "{ customer_id, customer_name, \n",
    "    order: { order_id, shipping_address, \n",
    "        item: { product_name, price },\n",
    "        payment: { card_num, txn_id, billing_address } \n",
    "        }\n",
    "}\n",
    "``` "
   ]
  },
  {
   "cell_type": "markdown",
   "metadata": {},
   "source": [
    "- **Key-value Database**: \n",
    "    + Each aggregate has a key field (ID)\n",
    "    + Values are opaque, the storage does not know anything about them\n",
    "    + The key lookup to fetch the entire aggregate (i.e. all the column fields in the aggregate)\n",
    "    + When querying for a key, it returns **everything**, every fields belong to that key. \n",
    "    + But there is more freedom to place whatever you want\n",
    "    \n",
    "    \n",
    "- **Document Database**:\n",
    "    + Each aggregate has a key field (ID)\n",
    "    + It has allowable structure & type\n",
    "    + Access by key and also by the fields in the aggregates (can retrieve fields in the value)\n",
    "    + Very similar to Key-Value Database\n",
    "    + But must follow the format: \"key\": \"value\" -- less freedom than key-value database\n",
    "    + But can also submit a query based on the internal structure of the document\n",
    "        + When querying for a key, document db can return a specific field \n",
    "        + e.g. `db.world_bank.find({'borrower': 'KENYA'})`\n",
    "        + e.g. \n",
    "        ```\n",
    "        db.world_bank.find(\n",
    "            {'borrower': {$regex: 'KENYA'}},\n",
    "            { borrower:1, url:1, _id: 0 })\n",
    "        ```\n",
    "        \n",
    "- **Columnar Database**:\n",
    "    + Optimize for cases when you rarely have to write, but columns are read together in many rows\n",
    "    + Not good for writing because of the relationship? But reading is very fast\n",
    "    + Data could be fetched by column\n",
    "    + Organize columns into column families as a unit of access\n",
    "    + Two-level map structure:\n",
    "        1. Row Identifier (Row Key): Choose the aggregate of interest\n",
    "        2. Columns: Choose a particular column\n",
    "    + The beauty of it: If there is a new node coming in and you know about its relationship to one of the other nodes, we can traverse from the new node to the other\n",
    "    + e.g. Columnar Database: \n",
    "    ```\n",
    "    {'name': ['john', 'andy'],\n",
    "     'address': ['100 Howard', '400 Spear'] }\n",
    "     ```  "
   ]
  },
  {
   "cell_type": "markdown",
   "metadata": {},
   "source": [
    "### 2. Relationship-Oriented Database\n",
    "\n",
    "- Relational database with complex schema\n",
    "- Hard to understand, query, generalize and integrate data\n",
    "- Compared to Aggregate-oriented NoSQL: Atomicity is only supported within a single aggregate\n",
    "\n",
    "- **Nodes** (Object) and **Edges** (Relationship) representation\n",
    "- For data with complex relationship: \n",
    "    + Focus more graph \"Traverse\" (more than \"Insert\")\n",
    "    + Comparing to RDBMS, many joins can cause poor performance\n",
    "- Running on a **single** server, is **NOT** designed for distributing across clusters\n"
   ]
  },
  {
   "cell_type": "markdown",
   "metadata": {},
   "source": [
    "### Examples"
   ]
  },
  {
   "cell_type": "markdown",
   "metadata": {},
   "source": [
    "- **Key-value**: Redis, Riak, Berkeley DB\n",
    "- **Document**: MongoDB, CouchDB, OrientDB, RavenDB\n",
    "- **Column**: Cassandra, HBase, Amazon Simple DB\n",
    "- **Graph**: Neo4J, OrientDB, FlockDB"
   ]
  },
  {
   "cell_type": "markdown",
   "metadata": {},
   "source": [
    "### Choice of DBMS"
   ]
  },
  {
   "cell_type": "markdown",
   "metadata": {},
   "source": [
    "- **Polyglot Persistence**: \n",
    "    + Using multiple data storage technologies, chosen based on the way data is being used by individual applications\n",
    "    + NoSQL data do not replace relational databases"
   ]
  },
  {
   "cell_type": "markdown",
   "metadata": {},
   "source": [
    "<img src=\"nosql-vs-sql1.png\">"
   ]
  },
  {
   "cell_type": "markdown",
   "metadata": {},
   "source": [
    "### Document Databases\n",
    "- For storing and retrieving documents with self-contained schema -- including JSON and XML\n",
    "- Schema of the data can differ across documents, but these documents can still belong to the same collection\n",
    "    + Some attributes do not exist in another document\n",
    "    + New attributes can be created without defining them in the existing documents"
   ]
  },
  {
   "cell_type": "markdown",
   "metadata": {},
   "source": [
    "## MongoDB"
   ]
  },
  {
   "cell_type": "markdown",
   "metadata": {},
   "source": [
    "#### Terminology \n",
    "\n",
    "| SQL (RDBMS) | MongoDB |\n",
    "|-------------|---------|\n",
    "| database | database |\n",
    "| table | collection |\n",
    "| row | document |\n",
    "| column | field |"
   ]
  },
  {
   "cell_type": "markdown",
   "metadata": {},
   "source": [
    "### Why MongoDB?\n",
    "- Ease of use: No defined schema\n",
    "- Easy scaling: MongoDB takes care of\n",
    "    + Balancing data\n",
    "    + Loading data across a cluster\n",
    "    + Redistributing documents automatically\n",
    "    + Routing user request to the correct machines\n",
    "- Many features\n",
    "    + Creating,\treading, updating, and\tdeleting (CRUD)\tdata.\n",
    "    + Indexing:\tSupports secondary indexes,\tallowing fast queries.\n",
    "    + Aggregation pipeline: Allow you to build complex aggregations\tfrom\tsimple pieces.\n",
    "    + Special collection types:\tTime-to-live collections (session / data deleted after awhile),\tfixed-size collections.\n",
    "    + File storage: Stores large files and file metadata (GridFS).\n",
    "- Supported drivers: \n",
    "C,\tC++, C#, Java,\tNode.js, Perl, PHP,\tPython,\tRuby,\tScala,\tGo\tand\tErlang"
   ]
  },
  {
   "cell_type": "markdown",
   "metadata": {
    "collapsed": true
   },
   "source": [
    "### Mongo CRUD Operations\n",
    "\n",
    "#### Create \n",
    "\n",
    "```\n",
    "document1 = {\"name\": \"David\", \"address\": {\"street\": \"100 Howard\", \"city\": \"SF\", \"state\": \"CA\"}}\n",
    "document2 = {\"name\": \"Yannet\", \"address\": {\"street\": \"100 Howard\", \"city\": \"SF\", \"state\": \"CA\"}}\n",
    "\n",
    "db.collection_name.insert([document1, document2)\n",
    "```\n",
    "\n",
    "#### Retrieve \n",
    "```\n",
    "db.friend.findOne({\"name\": {$regex: \"David\"}})\n",
    "db.friend.find({\"name\": {$regex: \"D\"}})\n",
    "```\n",
    "\n",
    "#### Update\n",
    "\n",
    "By default, it will only change the first row/document it found. If set **\"multi\"** to True, updates multiple documents that meet the query criteria\n",
    "\n",
    "```\n",
    "# Update\n",
    "new_value = {\"name\": \"David Guy Brizan\", \"address\": {\"city\": \"SF\"}}\n",
    "search_criteria = {\"name\": \"David Guy Brizan\"}\n",
    "db.friend.update(search_criteria, new_value)\n",
    "\n",
    "# Add new field\n",
    "db.friend.update({\"name\": \"Diane\"}, {$set:{\"noCats\": 1}}) \n",
    "\n",
    "# Remove the field - value does not matter\n",
    "db.friend.update({\"name\": \"Diane\"}, {$unset:{\"noCats\": 1}}) \n",
    "\n",
    "# Increment - if does not exist, start with zero\n",
    "db.friend.update({\"name\": \"Diane\"}, {$inc:{\"noCats\": 1}}) \n",
    "\n",
    "# Change name of the field\n",
    "db.friend.update({\"name\": \"Diane\"}, {$rename:{\"noCats\": \"numCats\"}}) \n",
    "\n",
    "# Set a minimum level \n",
    "db.friend.update({\"name\": \"Diane\"}, {$min:{\"numCats\":5}}) \n",
    "\n",
    "# Update for all rows\n",
    "db.friend.update({\"name\": \"Diane\"}, {$rename:{\"numCats\":5}}, {multi:True}) \n",
    "\n",
    "```"
   ]
  },
  {
   "cell_type": "code",
   "execution_count": null,
   "metadata": {
    "collapsed": true
   },
   "outputs": [],
   "source": []
  }
 ],
 "metadata": {
  "kernelspec": {
   "display_name": "Python 2",
   "language": "python",
   "name": "python2"
  },
  "language_info": {
   "codemirror_mode": {
    "name": "ipython",
    "version": 2
   },
   "file_extension": ".py",
   "mimetype": "text/x-python",
   "name": "python",
   "nbconvert_exporter": "python",
   "pygments_lexer": "ipython2",
   "version": "2.7.14"
  }
 },
 "nbformat": 4,
 "nbformat_minor": 2
}
