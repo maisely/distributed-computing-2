{
 "cells": [
  {
   "cell_type": "code",
   "execution_count": 1,
   "metadata": {
    "collapsed": true
   },
   "outputs": [],
   "source": [
    "from pyspark import SparkContext\n",
    "sc = SparkContext.getOrCreate()"
   ]
  },
  {
   "cell_type": "markdown",
   "metadata": {},
   "source": [
    "# MongoDB"
   ]
  },
  {
   "cell_type": "markdown",
   "metadata": {},
   "source": [
    "- Before, problem with SQL is Impedance Mismatch. But MongoDB supports a variety of data types\n",
    "- Assume that data will be added or updated, mongoDB will have to calculate and give some \"wiggle\" room "
   ]
  },
  {
   "cell_type": "markdown",
   "metadata": {},
   "source": [
    "## Operations\n",
    "\n",
    "### Update\n",
    "- Field Modifier: \n",
    "    + `$set`: Create / set the value of a field in a document\n",
    "    + `$unset`: Removes the specified field from a document\n",
    "    + `$inc`: Increment the value of the field by a specified amount\n",
    "    ```\n",
    "    { $inc: { <field1>: <amount1>, <field2>: <amount2>, ... } }\n",
    "    ```\n",
    "    + `$min`/`$max`: Only updates the field if the specified value is less / greater than the existing value\n",
    "    + `$rename`: Rename the field\n",
    "    \n",
    "    ```\n",
    "    { $rename: { <field1>: <newName1>, <field2>: <newName2>, ... } }\n",
    "    ```\n",
    "- Array Modifier: \n",
    "    + `$push`: Add an item to the end of an array\n",
    "    \n",
    "    ```\n",
    "    { $push: { <field1>: <value1>, ... } }\n",
    "    ```\n",
    "    + `$pop`: Remove the first / last item of an array\n",
    "    \n",
    "    ```\n",
    "    # first element = -1\n",
    "    { $pop:{ <field> : <-1 or 1>, ...} }\n",
    "    ```\n",
    "    + `$pull`: Remove all array element that match a specified query\n",
    "    \n",
    "    ```\n",
    "    { $pull: { <field1>: <value|condition>, <field2>: <value|condition>, ... } }\n",
    "    ```\n",
    "    \n",
    "    + `$`: Acts as a placeholder to update the first element that matches the query condition\n",
    "        + Positional $ operator identifies an element in an array to update without explicitly specifying the position of the element in the array.\n",
    "        + It figures out which element of the array the query matched and updates that element  \n",
    "        \n",
    "    + `$[]`: Acts as a placeholder to update all elements in an array for the documents that match the query condition\n",
    "        + To update all elements in an array, see the all positional operator $[]"
   ]
  },
  {
   "cell_type": "markdown",
   "metadata": {},
   "source": [
    "### Read:\n",
    "- find(): Return a subetset of documents in a collection\n",
    "```python\n",
    "# Key_to_return :1/true-include vs. 0/false-exclude\n",
    "db.collection_name.find({search_criteria},{key_to_return :1/0})\n",
    "```\n",
    "- add criteria for more complex criteria: \n",
    "\n",
    "    + `$lt`, `$lte`, `$gt`, `$gte`, `$ne`, `$eq` (less than, less than or equal to, greater than, etc.)\n",
    "```python\n",
    "db.collection_name.find( {field:{range_operator:value} } )\n",
    "```\n",
    "    + **Or**: `$or` : query values for multiple keys | `$in`, `$nin`: query values for a single key (1 criteria)\n",
    "    \n",
    "    ```python\n",
    "    # or operator\n",
    "    db.collection_name.find( $or [ {field1: criteria1}, {field2: criteria2} ] )\n",
    "    \n",
    "    # in operator\n",
    "    db.collection_name.find({field: {$in: [value1, value2] }})\n",
    "    ```\n",
    "    \n",
    "    + **Regex**:  Pattern matching strings in queries. Follows Perl Compatible Regular Expression (PCRE) version8.39 with UTF-8 support. \n",
    "    ```python\n",
    "    db.collection_name.find({key:{$regex:pattern})\n",
    "    ```\n",
    "    \n",
    "- query array: \n",
    "    + **`$slice`**: Return a subset of elements for an array key, helpful when you know the index of the element.\n",
    "\n",
    "    ```python\n",
    "    # positive N = first N elements\n",
    "    # negative N = last N elements\n",
    "    db.collection_name.findOne(criteria, {array_name:{$slice: N}})\n",
    "    ```\n",
    "    \n",
    "    + **`$elemMatch`**: Matches documents that contain an array field with **at least** one element that\n",
    "matches all the specified query criteria. It returns the entire array if at least one matches.\n",
    "    ```python\n",
    "    db.collection_name.find({field:{ $elemMatch: {<query1>,<query2>,...}}})\n",
    "    ```\n",
    "\n",
    "- query embedded document: \n",
    "    + Query for the entire document: Find exact matches of the subdocument.\n",
    "    + Query for the individual key/value pairs: Using the dot notation to reach into an embedded document."
   ]
  },
  {
   "cell_type": "markdown",
   "metadata": {},
   "source": [
    "### Example 1\n",
    "Load world_bank_project_small.json to ”msan697” database’s “world_bank_project” collection and print only “borrower” information."
   ]
  },
  {
   "cell_type": "markdown",
   "metadata": {},
   "source": [
    "```python\n",
    "# can use true/false\n",
    "> db.world_bank.find({}, {\"borrower\": 1, \"_id\":0})\n",
    "\n",
    "{ \"borrower\" : \"GOVERNMENT OF ANGOLA\" }\n",
    "{ \"borrower\" : \"GOVERNMENT OF TUNISIA\" }\n",
    "{ \"borrower\" : \"GOVERNMENT OF TANZANIA\" }\n",
    "```\n"
   ]
  },
  {
   "cell_type": "markdown",
   "metadata": {},
   "source": [
    "### Example 2 - range\n",
    "\n",
    "- From “world_bank_project” collection, find the number of documents where their sector1’s Percent is greater than or equal to 60.\n",
    "- From 1), print only “borrower” and “_id” information.\n",
    "\n",
    "```python\n",
    "> db.world_bank.find({}, {\"sector1\":1, \"_id\": 0})\n",
    "\n",
    "{ \"sector1\" : { \"Name\" : \"Primary education\", \"Percent\" : 100 } }\n",
    "{ \"sector1\" : { \"Name\" : \"Public administration- Other social services\", \"Percent\" : 70 } }\n",
    "{ \"sector1\" : { \"Name\" : \"Forestry\", \"Percent\" : 50 } }\n",
    "```"
   ]
  },
  {
   "cell_type": "markdown",
   "metadata": {},
   "source": [
    "```python\n",
    "# use \".\" to go to a deeper level e.g. sector1.Percent\n",
    "> db.world_bank.find({\"sector1.Percent\": {$gte:60}}, {\"sector1\": 1, \"_id\":0})\n",
    "\n",
    "{ \"sector1\" : { \"Name\" : \"Primary education\", \"Percent\" : 100 } }\n",
    "{ \"sector1\" : { \"Name\" : \"Public administration- Other social services\", \"Percent\" : 70 } }\n",
    "\n",
    "\n",
    "> db.world_bank.find({\"sector1.Percent\": {$gte:60}}, {\"borrower\": 1, \"_id\":0})\n",
    "\n",
    "{ \"borrower\" : \"GOVERNMENT OF ANGOLA\" }\n",
    "{ \"borrower\" : \"GOVERNMENT OF TUNISIA\" }\n",
    "```"
   ]
  },
  {
   "cell_type": "markdown",
   "metadata": {},
   "source": [
    "### Example 3 - `$or`\n",
    "\n",
    "Find URLs of document where theme1’s Name is “Water resource management” **or** themecode is 65.\n",
    "\n",
    "```python\n",
    "> db.world_bank.find({},{\"theme1\":1, \"themecode\":1, \"_id\":0})\n",
    "\n",
    "{ \"theme1\" : { \"Name\" : \"Education for all\", \"Percent\" : 100 }, \"themecode\" : \"65\" }\n",
    "{ \"theme1\" : { \"Name\" : \"Other economic management\", \"Percent\" : 30 }, \"themecode\" : \"54,24\" }\n",
    "{ \"theme1\" : { \"Name\" : \"Water resource management\", \"Percent\" : 30 }, \"themecode\" : \"86,82,80,85\" }\n",
    "```"
   ]
  },
  {
   "cell_type": "markdown",
   "metadata": {},
   "source": [
    "```python\n",
    "> db.world_bank.find({$or: [{\"theme1.Name\": \"Water resource management\"}, {\"themecode\": \"65\"} ] },\n",
    "                    {\"theme1\": 1, \"themecode\":1, \"url\":1, \"_id\": 0})\n",
    "                    \n",
    "{ \"theme1\" : { \"Name\" : \"Education for all\", \"Percent\" : 100 },\n",
    "  \"themecode\" : \"65\",\n",
    "  \"url\" : \"http://www.worldbank.org/projects/P122700/angola-learning-all-project?lang=en\" }\n",
    "  \n",
    "{ \"theme1\" : { \"Name\" : \"Water resource management\", \"Percent\" : 30 },\n",
    "  \"themecode\" : \"86,82,80,85\",\n",
    "  \"url\" : \"http://www.worldbank.org/projects/P126361?lang=en\" }\n",
    "\n",
    "```"
   ]
  },
  {
   "cell_type": "markdown",
   "metadata": {},
   "source": [
    "### Example 4 - `$in`\n",
    "\n",
    "Find borrowers with impagency is either “MINISTRY OF EDUCATION” or “MINISTRY OF FINANCE”.\n",
    "\n",
    "```python\n",
    "> db.world_bank.find({\"impagency\": {$in: [\"MINISTRY OF EDUCATION\", \"MINISTRY OF FINANCE\"]}},\n",
    "                     {\"impagency\": 1, \"borrower\": 1, \"_id\": 0})\n",
    "                     \n",
    "{ \"borrower\" : \"GOVERNMENT OF ANGOLA\", \"impagency\" : \"MINISTRY OF EDUCATION\" }\n",
    "{ \"borrower\" : \"GOVERNMENT OF TUNISIA\", \"impagency\" : \"MINISTRY OF FINANCE\" }\n",
    "```"
   ]
  },
  {
   "cell_type": "markdown",
   "metadata": {},
   "source": [
    "### Example 5 - `$regex`\n",
    "From the world_bank_project collection, find all the project which name is ending with “Project”.\n",
    "\n",
    "```python\n",
    "> db.world_bank.find({\"project_name\": {$regex: \"Project$\"}}, {\"project_name\": 1, \"_id\": 0})\n",
    "{ \"project_name\" : \"Angola Learning for All Project\" }\n",
    "{ \"project_name\" : \"Kihansi Catchment Conservation and Management Project\" }\n",
    "```"
   ]
  },
  {
   "cell_type": "markdown",
   "metadata": {},
   "source": [
    "### Example 6 - `$slice`\n",
    "\n",
    "Find all project_name s ending with “Projects” and return with its project_name and last theme_namecode.\n",
    "\n",
    "```python\n",
    "> db.world_bank.find({\"project_name\": {\"$regex\": \"Project$\"}}, {\"theme_namecode\": 1, \"_id\":0})\n",
    "\n",
    "{ \"theme_namecode\" : [ { \"name\" : \"Education for all\", \"code\" : \"65\" } ] }\n",
    "{ \"theme_namecode\" : [ { \"name\" : \"Water resource management\", \"code\" : \"85\" },\n",
    "                       { \"name\" : \"Biodiversity\", \"code\" : \"80\" },\n",
    "                       { \"name\" : \"Environmental policies and institutions\", \"code\" : \"82\" },\n",
    "                       { \"name\" : \"Other environment and natural resources management\", \"code\" : \"86\" } ] }\n",
    "```\n",
    "\n",
    "```python\n",
    "> db.world_bank.find({\"project_name\": {\"$regex\": \"Project$\"}}, {\"theme_namecode\":{$slice:2} , \"_id\":0})\n",
    "```"
   ]
  },
  {
   "cell_type": "markdown",
   "metadata": {},
   "source": [
    "### Example 7 - `$elemMatch`\n",
    "\n",
    "Find a document which project docs’ DocType is“PID” and project docs’ DocDate is \"12-AUG-2013“.\n",
    "```python\n",
    "> db.world_bank.find({\"projectdocs\": {$elemMatch:{\"DocType\":\"PID\", \"DocDate\":\"12-AUG-2013\"}}}, {\"projectdocs\":1, \"_id\": 0})\n",
    "\n",
    "```"
   ]
  },
  {
   "cell_type": "markdown",
   "metadata": {},
   "source": [
    "### Example 9\n",
    "\n",
    "Find a document including\n",
    "```\n",
    "{\"themecode\" : \"65\",\n",
    "\"totalamt\" : 75000000, \n",
    "\"totalcommamt\" : 75000000,\n",
    "\"url\" : \"http://www.worldbank.org/projects/P122700/angola-learning-all-project?lang=en\"}\n",
    "```\n",
    "\n",
    "```python\n",
    "> db.world_bank.find({\"themecode\" : \"65\", \"totalamt\" : 75000000,  \"totalcommamt\" : 75000000, \"url\" : \"http://www.worldbank.org/projects/P122700/angola-learning-all-project?lang=en\"}, {\"borrower\":1, \"themecode\":1, \"totalamt\":1})\n",
    "\n",
    "{ \"_id\" : ObjectId(\"52b213b38594d8a2be17c79e\"), \"borrower\" : \"GOVERNMENT OF ANGOLA\", \"themecode\" : \"65\", \"totalamt\" : 75000000 }\n",
    "```"
   ]
  },
  {
   "cell_type": "markdown",
   "metadata": {},
   "source": [
    "## Aggregation Pipeline"
   ]
  },
  {
   "cell_type": "markdown",
   "metadata": {},
   "source": [
    "- Returns an array of result documents to the client. (Not write to collections.)\n",
    "- Nested transformation together: \n",
    "    - `db.collecion_name.aggregate({Transform_operator_1 : criteria_1},{Transform_operator_2 : criteria_2}, ...)`\n",
    "    - `$match, $project, $lookup, $group, $unwind, $out`, etc.\n",
    "\n",
    "### Pipeline Operators\n",
    "\n",
    "- `$match` : filters document with criteria\n",
    "    ```python\n",
    "    db.world_bank.aggregate({$match:{'totalamt': 75000000}})\n",
    "    ```\n",
    "\n",
    "- `$project` : Extract field. Rename the projected field.\n",
    "    + Specify the inclusion of fields, the addition of new fields, and the resetting the values of existing fields.\n",
    "    + Mathematical - `$avg`, `$min`, `$max`, `$add`, `$subtract`, `$multiply`, `$pow`, etc.\n",
    "    \n",
    "    ```\n",
    "    # only show field projectdocs\n",
    "    db.world_bank.aggregate({$match: {\"totalamt\": 75000000}}, {$project: {\"projectdocs\":1}} )\n",
    "    ```\n",
    "    \n",
    "- `$unwind` : return each of an array into a separate document.\n",
    "\n",
    "    ```python\n",
    "    {\"_id\": ObjId, \"projectdocs\": [{A}, {B}] }\n",
    "    \n",
    "    # unwind\n",
    "    {\"projectdocs\": {A}}\n",
    "    {\"projectdocs\": {B}}\n",
    "    ```\n",
    "    \n",
    "    ```\n",
    "    # example\n",
    "    # $projectdocs refer to the value of the projectdocs, which is an array\n",
    "    \n",
    "    > db.world_bank.aggregate({$match:{'totalamt': 0}},\n",
    "                            {$project:{\"projectdocs\":1}},\n",
    "                            {$unwind: \"$projectdocs\"} )\n",
    "    ```"
   ]
  },
  {
   "cell_type": "markdown",
   "metadata": {},
   "source": [
    "```python\n",
    "# return 2 elements of projectdocs as 2 separated documents\n",
    "    { \"_id\" : ObjectId(\"52b213b38594d8a2be17c79e\"), \"projectdocs\" : { \"DocTypeDesc\" : \"Project Appraisal Document (PAD),  Vol.1 of 1\", \"DocType\" : \"PAD\", \"EntityID\" : \"000356161_20130911153455\", \"DocURL\" : \"http://www-wds.worldbank.org/servlet/WDSServlet?pcont=details&eid=000356161_20130911153455\", \"DocDate\" : \"28-AUG-2013\" } }\n",
    "    \n",
    "{ \"_id\" : ObjectId(\"52b213b38594d8a2be17c79e\"), \"projectdocs\" : { \"DocTypeDesc\" : \"Project Information Document (PID),  Vol.\", \"DocType\" : \"PID\", \"EntityID\" : \"0000A8056_2012052416140258\", \"DocURL\" : \"http://www-wds.worldbank.org/servlet/WDSServlet?pcont=details&eid=0000A8056_2012052416140258\", \"DocDate\" : \"24-MAY-2012\" } }\n",
    "```"
   ]
  },
  {
   "cell_type": "markdown",
   "metadata": {},
   "source": [
    "- `$group` : group documents based on certain fields and combine their values.\n",
    "    + grouped by the `$group’s _id` field.\n",
    "    + Accumulator operators can be used together.\n",
    "    ```\n",
    "    # assign a group id as the doctype\n",
    "    > db.world_bank.aggregate({$match:{: 75000000}},\n",
    "                            {$project:{\"projectdocs\":1}},\n",
    "                            {$unwind: \"$projectdocs\"},\n",
    "                            {$group: {\"_id\": \"$projectdocs.DocType\"}} )\n",
    "    \n",
    "    { \"_id\" : \"ISDS\"}\n",
    "    { \"_id\" : \"PID\" }\n",
    "    { \"_id\" : \"PAD\" }\n",
    "    ```\n",
    "    \n",
    "    ```\n",
    "    # count per group doctype\n",
    "    > db.world_bank.aggregate({$match:{'totalamt': 75000000}},\n",
    "                            {$project:{\"projectdocs\":1}},\n",
    "                            {$unwind: \"$projectdocs\"},\n",
    "                            {$group: {\"_id\": \"$projectdocs.DocType\",\n",
    "                                      \"count\": {$sum:1}}})\n",
    "    \n",
    "    { \"_id\" : \"ISDS\", \"count\" : 2 }\n",
    "    { \"_id\" : \"PID\", \"count\" : 2 }\n",
    "    { \"_id\" : \"PAD\", \"count\" : 1 }\n",
    "    ```\n",
    "    \n",
    "- `$sort` : collect all document and properly sort them and send the individual shard’s sorted results.\n",
    "-  `$out` : create/replace a new collection in the current database from the aggregation operation."
   ]
  },
  {
   "cell_type": "markdown",
   "metadata": {},
   "source": [
    "### Example 10 \n",
    "In world_bank_project, 1) find a document where totalcommamt is 75000000 and 2) find the number of projectdocs grouped by DocType belonging to it."
   ]
  },
  {
   "cell_type": "markdown",
   "metadata": {},
   "source": [
    "## Distribition Models"
   ]
  },
  {
   "cell_type": "markdown",
   "metadata": {},
   "source": [
    "### Single Server Distribution Model\n",
    "- If we can get away without distribution, we should choose a single-server approach. \n",
    "- Ex. Graph Database\n",
    "\n",
    "### Aggregate\n",
    "- Collection of related objects treated as a unit. \n",
    "- Natural unit for distribution.\n",
    "\n",
    "Two ways for data distribution\n",
    "1. Sharding : Place different data on different nodes.\n",
    "2. Replication : Copy the same data over multiple nodes.\n",
    "    - Master-Slave Replication \n",
    "    - Peer-to-Peer Replication"
   ]
  },
  {
   "cell_type": "markdown",
   "metadata": {},
   "source": [
    "### Sharding\n",
    "- Distributing data into different servers\n",
    "- Each of them does its own reads and writes ==> Improves **scalability**.\n",
    "\n",
    "- Things to consider: \n",
    "     - Locate the data commonly accessed together on the same node (Aggregate and/or Data accessed sequentially together.).\n",
    "     - Physical location.\n",
    "     - Keep the load even.\n",
    "\n",
    "- Pros: Improve read & writes\n",
    "- Cons: Low resilience\n",
    "\n",
    "### MongoDB & Sharding\n",
    "\n",
    "- MongoDB supports auto-sharding.\n",
    "     + Database takes the responsibility of allocating data to shards, balancing data across shards, ensuring data access goes to the right shard.\n",
    "\n",
    "\n",
    "- **Mongod** : Primary database process that runs on an individual server.\n",
    "- **Mongos** : Routing process to manage storing different data on different servers and query against the right server.\n",
    "!"
   ]
  },
  {
   "cell_type": "markdown",
   "metadata": {},
   "source": [
    "### MongoDB & Replication \n",
    "\n",
    "- Master-slave replication : Synchronize slaves with the master.\n",
    "- Clients can send a master(Primary) read, write, command, index, etc. requests.\n",
    "- Clients cannot write to slaves (Secondaries).\n",
    "- By default, clients cannot read from secondaries.\n",
    "- However by explicitly setting “setSlaveOk()” client can read from secondaries.\n",
    "- If master dies, you cannot write the data. Mongo can pick one of the saves to become the\n",
    "\n",
    "#### Read\n",
    "- Structure\n",
    "- Master (primary)\n",
    "    + Authoritative source for the data.\n",
    "    + Responsible for processing updates. \n",
    "    + Manually or automatically assigned.\n",
    "- Slaves (secondaries)\n",
    "    + Contains copied data from a master.\n",
    "\n",
    "#### Write\n",
    "- Only master can receive the updated written data, which will then propagate to the slave nodes (i.e. the data in the slave node is outdated)\n",
    "\n",
    "- Always have an odd number of copies for cross-validation of data. Mongo will use the one with the highest voting\n",
    "\n",
    "#### Pros: \n",
    "- Good scalability with intensive read. \n",
    "- Read resilience.\n",
    "\n",
    "#### Cons: \n",
    "- Poor with intensive writes. \n",
    "- Inconsistency."
   ]
  },
  {
   "cell_type": "markdown",
   "metadata": {},
   "source": [
    "### Sharding + Replications \n",
    "+ Scalability + Fault Tolerance\n",
    "+ Master-slave replication and sharding\n",
    "+ Multiplemasters.\n",
    "+ Eachdataonlyhasonemaster.\n",
    "+ A node can be a master for some data and slave for others."
   ]
  },
  {
   "cell_type": "markdown",
   "metadata": {},
   "source": [
    "## CAP Theorem\n",
    "\n",
    "You can only get two: \n",
    "- **Consistency**: All nodes have most recent data via eventual consistency. \n",
    "- **Availability**: Every request received by a non-failing node must return a response.\n",
    "- ** Partition Tolerance**:  Clusters can survive from communication breakages in the cluster - - ALWAYS NEED TO BE SATISFIED FOR DIST.COMP.\n",
    "\n",
    "\n",
    "- ACID addresses an individual node's data consistency. \n",
    "- CAP addresses cluster-wide data consis\n",
    "\n",
    "\n",
    "#### CAP Theorem and Distributed Database\n",
    "- Requirement: Partition-Tolerance \n",
    "- Availability or Consistency??\n",
    "    + Availability–Shopping\n",
    "    + Consistency–StockMarket"
   ]
  }
 ],
 "metadata": {
  "kernelspec": {
   "display_name": "Python 2",
   "language": "python",
   "name": "python2"
  },
  "language_info": {
   "codemirror_mode": {
    "name": "ipython",
    "version": 2
   },
   "file_extension": ".py",
   "mimetype": "text/x-python",
   "name": "python",
   "nbconvert_exporter": "python",
   "pygments_lexer": "ipython2",
   "version": "2.7.14"
  }
 },
 "nbformat": 4,
 "nbformat_minor": 2
}
